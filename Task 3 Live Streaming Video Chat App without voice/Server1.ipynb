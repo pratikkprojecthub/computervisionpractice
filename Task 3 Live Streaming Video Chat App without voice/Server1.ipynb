{
 "cells": [
  {
   "cell_type": "markdown",
   "metadata": {},
   "source": [
    "# TASK 3 :  Create Live Streaming Video Chat App without voice using cv2 module of Python: "
   ]
  },
  {
   "cell_type": "markdown",
   "metadata": {},
   "source": [
    "# 📌 Server Side"
   ]
  },
  {
   "cell_type": "code",
   "execution_count": null,
   "metadata": {},
   "outputs": [
    {
     "name": "stdout",
     "output_type": "stream",
     "text": [
      "HOST IP Address: 169.254.88.31\n",
      "Yeah !!! Done\n",
      "Socket Created Successfully\n",
      "Done\n",
      "\n",
      "Socket Bind Successfully\n",
      "Success\n",
      "\n",
      "Listening at: ('192.168.43.213', 8080)\n",
      "JHAKASS\n",
      "\n",
      "Socket Accept\n",
      "Brillant\n",
      "\n",
      "CONNECTION FROM: ('192.168.43.213', 61625)\n"
     ]
    }
   ],
   "source": [
    "import socket, cv2, pickle,struct\n",
    "\n",
    "\n",
    "server_socket = socket.socket(socket.AF_INET,socket.SOCK_STREAM)\n",
    "host_n  = socket.gethostname()\n",
    "host_ip = socket.gethostbyname(host_n)\n",
    "print('HOST IP Address:',host_ip)\n",
    "print(\"Yeah !!! Done\")\n",
    "port = 8080\n",
    "socket_address = ('192.168.43.213',port)\n",
    "print(\"Socket Created Successfully\")\n",
    "print(\"Done\\n\")\n",
    "\n",
    "server_socket.bind(socket_address)\n",
    "print(\"Socket Bind Successfully\")\n",
    "print(\"Success\\n\")\n",
    "\n",
    "\n",
    "server_socket.listen(5)\n",
    "print(\"Listening at:\",socket_address)\n",
    "print(\"JHAKASS\\n\")\n",
    "\n",
    "print(\"Socket Accept\")\n",
    "print(\"Brillant\\n\")\n",
    "while True:\n",
    "    client_socket,addr = server_socket.accept()\n",
    "    print('CONNECTION FROM:',addr)\n",
    "    if client_socket:\n",
    "        video = cv2.VideoCapture(0)\n",
    "        \n",
    "        while(video.isOpened()):\n",
    "            img,frame = video.read()\n",
    "            a = pickle.dumps(frame)\n",
    "            message = struct.pack(\"Q\",len(a))+a\n",
    "            client_socket.sendall(message)\n",
    "            \n",
    "\t\t\n",
    "            cv2.imshow('Server Side Screen',frame)\n",
    "            key = cv2.waitKey(1) & 0xFF\n",
    "            if key ==ord('q'):\n",
    "                client_socket.close()\n",
    "\n",
    "print(\"Done Successfully\")\n",
    "print(\"Task 3 And Arth-Task 36 Done\") "
   ]
  },
  {
   "cell_type": "code",
   "execution_count": null,
   "metadata": {},
   "outputs": [],
   "source": []
  }
 ],
 "metadata": {
  "kernelspec": {
   "display_name": "Python 3",
   "language": "python",
   "name": "python3"
  },
  "language_info": {
   "codemirror_mode": {
    "name": "ipython",
    "version": 3
   },
   "file_extension": ".py",
   "mimetype": "text/x-python",
   "name": "python",
   "nbconvert_exporter": "python",
   "pygments_lexer": "ipython3",
   "version": "3.8.2"
  }
 },
 "nbformat": 4,
 "nbformat_minor": 4
}
