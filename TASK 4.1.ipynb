{
 "cells": [
  {
   "cell_type": "markdown",
   "metadata": {},
   "source": [
    "# TASK 4.1"
   ]
  },
  {
   "cell_type": "markdown",
   "metadata": {},
   "source": [
    "📌 Create image by yourself Using Python Code "
   ]
  },
  {
   "cell_type": "code",
   "execution_count": 1,
   "metadata": {},
   "outputs": [],
   "source": [
    "import numpy as np\n",
    "import cv2"
   ]
  },
  {
   "cell_type": "code",
   "execution_count": 2,
   "metadata": {},
   "outputs": [],
   "source": [
    "# Creation of 3D array with zeros\n",
    "p1 = np.zeros((550, 500, 3))\n",
    "\n",
    "# Straight line for creating a body\n",
    "cv2.line(p1, (250, 250), (250, 370), (255, 0, 0), 10)\n",
    "\n",
    "# lines for hands\n",
    "\n",
    "# right hand\n",
    "cv2.line(p1, (250, 250), (150, 350), (0, 255, 0), 10)\n",
    "#left hand\n",
    "cv2.line(p1, (250, 250), (350, 350), (0, 255, 0), 10)\n",
    "\n",
    "# lines for legs\n",
    "\n",
    "#right leg\n",
    "cv2.line(p1, (250, 370), (150, 500), (255, 255, 0), 10)\n",
    "#left leg\n",
    "cv2.line(p1, (250, 370), (350, 500), (255, 255, 0), 10)\n",
    "\n",
    "# face looking up \n",
    "\n",
    "cv2.circle(p1, center=(250,170), radius=80, color=(255,255,255), thickness= -1)\n",
    "\n",
    "# mouth in center\n",
    "\n",
    "cv2.circle(p1, center=(250,180), radius=20, color=(0,0,255), thickness= -1)\n",
    "\n",
    "# eyes\n",
    "\n",
    "cv2.circle(p1, center=(215,120), radius=15, color=(0,255,0), thickness= -1)\n",
    "cv2.circle(p1, center=(285,120), radius=15, color=(0,255,0), thickness= -1)\n",
    "\n",
    "#object in sky\n",
    "p1 = cv2.arrowedLine(p1, (0,255), (255,0), (255, 255, 0), 10)\n",
    "\n",
    "# Done showing the image\n",
    "\n",
    "cv2.imshow(\"Hello\", p1)\n",
    "cv2.waitKey()\n",
    "cv2.destroyAllWindows()"
   ]
  },
  {
   "cell_type": "code",
   "execution_count": null,
   "metadata": {},
   "outputs": [],
   "source": []
  }
 ],
 "metadata": {
  "kernelspec": {
   "display_name": "Python 3",
   "language": "python",
   "name": "python3"
  },
  "language_info": {
   "codemirror_mode": {
    "name": "ipython",
    "version": 3
   },
   "file_extension": ".py",
   "mimetype": "text/x-python",
   "name": "python",
   "nbconvert_exporter": "python",
   "pygments_lexer": "ipython3",
   "version": "3.8.2"
  }
 },
 "nbformat": 4,
 "nbformat_minor": 4
}
