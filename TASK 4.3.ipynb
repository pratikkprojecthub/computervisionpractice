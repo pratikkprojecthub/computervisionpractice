{
 "cells": [
  {
   "cell_type": "markdown",
   "metadata": {},
   "source": [
    "\n",
    "# TASK 4.3.1\n"
   ]
  },
  {
   "cell_type": "markdown",
   "metadata": {},
   "source": [
    "📌 Take 2 image and combine it to form single image. \n",
    "\n",
    "For example collage"
   ]
  },
  {
   "cell_type": "code",
   "execution_count": 1,
   "metadata": {},
   "outputs": [],
   "source": [
    "import cv2\n",
    "import numpy as np"
   ]
  },
  {
   "cell_type": "code",
   "execution_count": 2,
   "metadata": {},
   "outputs": [],
   "source": [
    "# Reading the  image\n",
    "i1 = cv2.imread('IRONMAN.jpg')\n",
    "i2 = cv2.imread('Captain.jpg')\n",
    "\n",
    "# Creation of the collage\n",
    " \n",
    "collage = np.vstack((i1,i2))\n",
    "\n",
    "# Displaying the created collage/ image\n",
    "cv2.imshow(\"Collage\", collage)\n",
    "cv2.waitKey()\n",
    "cv2.destroyAllWindows()"
   ]
  },
  {
   "cell_type": "markdown",
   "metadata": {},
   "source": [
    "\n",
    "# TASK 4.3.2"
   ]
  },
  {
   "cell_type": "code",
   "execution_count": 3,
   "metadata": {},
   "outputs": [],
   "source": [
    "# Reading the  image\n",
    "i1 = cv2.imread('IRONMAN.jpg')\n",
    "i2 = cv2.imread('Captain.jpg')\n",
    "\n",
    "# Creation of the collage\n",
    " \n",
    "collage = np.hstack((i1,i2))\n",
    "\n",
    "# Displaying the created collage/ image\n",
    "cv2.imshow(\"Collage\", collage)\n",
    "cv2.waitKey()\n",
    "cv2.destroyAllWindows()"
   ]
  },
  {
   "cell_type": "code",
   "execution_count": null,
   "metadata": {},
   "outputs": [],
   "source": []
  }
 ],
 "metadata": {
  "kernelspec": {
   "display_name": "Python 3",
   "language": "python",
   "name": "python3"
  },
  "language_info": {
   "codemirror_mode": {
    "name": "ipython",
    "version": 3
   },
   "file_extension": ".py",
   "mimetype": "text/x-python",
   "name": "python",
   "nbconvert_exporter": "python",
   "pygments_lexer": "ipython3",
   "version": "3.8.2"
  }
 },
 "nbformat": 4,
 "nbformat_minor": 4
}
